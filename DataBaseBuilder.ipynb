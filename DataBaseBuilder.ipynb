{
 "cells": [
  {
   "cell_type": "code",
   "execution_count": 5,
   "metadata": {},
   "outputs": [],
   "source": [
    "import sqlite3\n",
    "import milvus\n",
    "from milvus import Milvus, DataType, MetricType"
   ]
  },
  {
   "cell_type": "code",
   "execution_count": 2,
   "metadata": {},
   "outputs": [],
   "source": [
    "class DBuilder:\n",
    "    def __init__(self, db_name):\n",
    "        self.name = db_name\n",
    "    def execute(self, query):\n",
    "        try:\n",
    "            con = sqlite3.connect(self.name)\n",
    "        except Error as e:\n",
    "            print(e)\n",
    "        con.cursor().execute(create_query)\n",
    "        con.commit()\n",
    "        con.close()\n",
    "    def fetchall(self, select_query):\n",
    "        try:\n",
    "            con = sqlite3.connect(self.name)\n",
    "        except Error as e:\n",
    "            print(e)\n",
    "        con.cursor().execute(select_query)\n",
    "        rows = con.cursor().fetchall()\n",
    "        con.close()\n",
    "        return rows\n",
    "    def close(self):\n",
    "        self.con.close()"
   ]
  },
  {
   "cell_type": "code",
   "execution_count": null,
   "metadata": {},
   "outputs": [],
   "source": [
    "host = \"127.0.0.1\"\n",
    "port = 19530\n",
    "milvus = Milvus(uri='tcp://localhost:19530')\n",
    "#client = Milvus(host, port)"
   ]
  },
  {
   "cell_type": "code",
   "execution_count": 11,
   "metadata": {},
   "outputs": [],
   "source": [
    "collection_name = \"demo_film_tutorial\"\n",
    "collection_param = {\n",
    "    \"collection_name\": collection_name,\n",
    "    \"dimension\": 8,\n",
    "    \"index_file_size\": 2048,\n",
    "    \"metric_type\": MetricType.L2\n",
    "}"
   ]
  },
  {
   "cell_type": "code",
   "execution_count": null,
   "metadata": {},
   "outputs": [],
   "source": []
  },
  {
   "cell_type": "code",
   "execution_count": null,
   "metadata": {},
   "outputs": [],
   "source": []
  }
 ],
 "metadata": {
  "kernelspec": {
   "display_name": "Python 3",
   "language": "python",
   "name": "python3"
  },
  "language_info": {
   "codemirror_mode": {
    "name": "ipython",
    "version": 3
   },
   "file_extension": ".py",
   "mimetype": "text/x-python",
   "name": "python",
   "nbconvert_exporter": "python",
   "pygments_lexer": "ipython3",
   "version": "3.6.7"
  }
 },
 "nbformat": 4,
 "nbformat_minor": 2
}
