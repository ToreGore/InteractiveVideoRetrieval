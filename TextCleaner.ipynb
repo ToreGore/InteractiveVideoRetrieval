{
 "cells": [
  {
   "cell_type": "code",
   "execution_count": 32,
   "metadata": {},
   "outputs": [
    {
     "name": "stderr",
     "output_type": "stream",
     "text": [
      "[nltk_data] Downloading package words to\n",
      "[nltk_data]     C:\\Users\\Ettore\\AppData\\Roaming\\nltk_data...\n",
      "[nltk_data]   Package words is already up-to-date!\n",
      "[nltk_data] Downloading package stopwords to\n",
      "[nltk_data]     C:\\Users\\Ettore\\AppData\\Roaming\\nltk_data...\n",
      "[nltk_data]   Package stopwords is already up-to-date!\n"
     ]
    }
   ],
   "source": [
    "import os\n",
    "import json \n",
    "import nltk\n",
    "import string\n",
    "import warnings\n",
    "import enchant\n",
    "from nltk.corpus import stopwords\n",
    "from nltk.tokenize import sent_tokenize, word_tokenize\n",
    "\n",
    "nltk.download(\"words\")\n",
    "nltk.download(\"stopwords\")\n",
    "warnings.filterwarnings(action = 'ignore')\n",
    "\n",
    "stop_words = set(stopwords.words('english'))\n",
    "words = enchant.Dict(\"en_US\")\n",
    "stop_words.add(\"p\")"
   ]
  },
  {
   "cell_type": "code",
   "execution_count": null,
   "metadata": {},
   "outputs": [],
   "source": []
  },
  {
   "cell_type": "code",
   "execution_count": 10,
   "metadata": {},
   "outputs": [],
   "source": [
    "def jsonFolderReader(path_to_folder):\n",
    "    jlist = []\n",
    "    for jfile in os.listdir(path_to_folder):\n",
    "        try:\n",
    "            jlist.append(json.load(open(path_to_folder + jfile)))\n",
    "        except:\n",
    "            pass\n",
    "    return jlist"
   ]
  },
  {
   "cell_type": "code",
   "execution_count": 43,
   "metadata": {},
   "outputs": [],
   "source": [
    "def cleaner(oldstring):\n",
    "    return \" \".join([word.lower() for word in oldstring.split() if ((words.check(word)) or \"http\" in word)])"
   ]
  },
  {
   "cell_type": "code",
   "execution_count": 44,
   "metadata": {},
   "outputs": [
    {
     "data": {
      "text/plain": [
       "'the creation of the hydroponic farm at the child development support corporation in brooklyn. the welcomes a new volunteer for construction of the hydroponic farm as work continues. for more visit http://www.cdscnyc.org and http://www.boswyckfarms.org.</p>'"
      ]
     },
     "execution_count": 44,
     "metadata": {},
     "output_type": "execute_result"
    }
   ],
   "source": [
    "jsons = jsonFolderReader(\"D:\\\\Downloads\\\\V3C1\\\\info\\\\\")\n",
    "cleaner(jsons[0][\"description\"])"
   ]
  },
  {
   "cell_type": "code",
   "execution_count": null,
   "metadata": {},
   "outputs": [],
   "source": []
  },
  {
   "cell_type": "code",
   "execution_count": null,
   "metadata": {},
   "outputs": [],
   "source": []
  }
 ],
 "metadata": {
  "kernelspec": {
   "display_name": "Python 3",
   "language": "python",
   "name": "python3"
  },
  "language_info": {
   "codemirror_mode": {
    "name": "ipython",
    "version": 3
   },
   "file_extension": ".py",
   "mimetype": "text/x-python",
   "name": "python",
   "nbconvert_exporter": "python",
   "pygments_lexer": "ipython3",
   "version": "3.6.7"
  }
 },
 "nbformat": 4,
 "nbformat_minor": 2
}
