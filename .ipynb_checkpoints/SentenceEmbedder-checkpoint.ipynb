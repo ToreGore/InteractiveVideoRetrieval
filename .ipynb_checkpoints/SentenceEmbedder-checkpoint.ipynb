{
 "cells": [
  {
   "cell_type": "code",
   "execution_count": 18,
   "metadata": {},
   "outputs": [],
   "source": [
    "import numpy as np\n",
    "\n",
    "from transformers import GPT2LMHeadModel, GPT2Tokenizer\n",
    "from sentence_transformers import SentenceTransformer"
   ]
  },
  {
   "cell_type": "code",
   "execution_count": 12,
   "metadata": {},
   "outputs": [],
   "source": [
    "class GPT2Embedder:\n",
    "    def __init__(self):\n",
    "        self.model = GPT2LMHeadModel.from_pretrained('gpt2')\n",
    "        self.tokenizer = GPT2Tokenizer.from_pretrained('gpt2')\n",
    "        self.word_embeddings = self.model.transformer.wte.weight  # Word Token Embeddings \n",
    "        self.position_embeddings = self.model.transformer.wpe.weight  # Word Position Embeddings\n",
    "    def embed_corpus(self, list_of_strings):\n",
    "        self.text_index = self.tokenizer.encode(list_of_strings, add_prefix_space=True)\n",
    "        self.vector = self.model.transformer.wte.weight[text_index, :]\n",
    "        return vector"
   ]
  },
  {
   "cell_type": "code",
   "execution_count": 20,
   "metadata": {},
   "outputs": [],
   "source": [
    "class BertEmbedder:\n",
    "    def __init__(self, version):\n",
    "        self.model = SentenceTransformer(version)\n",
    "    def embed_corpus(self, sentences):\n",
    "        return self.model.encode(sentences)"
   ]
  },
  {
   "cell_type": "code",
   "execution_count": 21,
   "metadata": {},
   "outputs": [],
   "source": [
    "gpt2 = GPT2Embedder()\n",
    "bert = BertEmbedder(\"paraphrase-distilroberta-base-v1\")"
   ]
  },
  {
   "cell_type": "code",
   "execution_count": null,
   "metadata": {},
   "outputs": [],
   "source": []
  },
  {
   "cell_type": "code",
   "execution_count": null,
   "metadata": {},
   "outputs": [],
   "source": []
  }
 ],
 "metadata": {
  "kernelspec": {
   "display_name": "Python 3",
   "language": "python",
   "name": "python3"
  },
  "language_info": {
   "codemirror_mode": {
    "name": "ipython",
    "version": 3
   },
   "file_extension": ".py",
   "mimetype": "text/x-python",
   "name": "python",
   "nbconvert_exporter": "python",
   "pygments_lexer": "ipython3",
   "version": "3.6.7"
  }
 },
 "nbformat": 4,
 "nbformat_minor": 2
}
