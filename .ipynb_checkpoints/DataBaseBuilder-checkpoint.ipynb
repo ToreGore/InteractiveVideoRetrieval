{
 "cells": [
  {
   "cell_type": "code",
   "execution_count": 2,
   "metadata": {},
   "outputs": [],
   "source": [
    "import sqlite3"
   ]
  },
  {
   "cell_type": "code",
   "execution_count": 10,
   "metadata": {},
   "outputs": [],
   "source": [
    "class DBuilder:\n",
    "    def __init__(self, db_name):\n",
    "        self.name = db_name\n",
    "    def execute(self, query):\n",
    "        try:\n",
    "            con = sqlite3.connect(self.name)\n",
    "        except Error as e:\n",
    "            print(e)\n",
    "        con.cursor().execute(create_query)\n",
    "        con.commit()\n",
    "        con.close()\n",
    "    def fetchall(self, select_query):\n",
    "        try:\n",
    "            con = sqlite3.connect(self.name)\n",
    "        except Error as e:\n",
    "            print(e)\n",
    "        con.cursor().execute(select_query)\n",
    "        rows = con.cursor().fetchall()\n",
    "        con.close()\n",
    "        return rows\n",
    "    def close(self):\n",
    "        self.con.close()"
   ]
  }
 ],
 "metadata": {
  "kernelspec": {
   "display_name": "Python 3",
   "language": "python",
   "name": "python3"
  },
  "language_info": {
   "codemirror_mode": {
    "name": "ipython",
    "version": 3
   },
   "file_extension": ".py",
   "mimetype": "text/x-python",
   "name": "python",
   "nbconvert_exporter": "python",
   "pygments_lexer": "ipython3",
   "version": "3.6.7"
  }
 },
 "nbformat": 4,
 "nbformat_minor": 2
}
