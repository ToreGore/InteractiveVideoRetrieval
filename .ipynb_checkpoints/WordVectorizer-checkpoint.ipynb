{
 "cells": [
  {
   "cell_type": "code",
   "execution_count": 154,
   "metadata": {},
   "outputs": [
    {
     "name": "stderr",
     "output_type": "stream",
     "text": [
      "[nltk_data] Downloading package stopwords to\n",
      "[nltk_data]     C:\\Users\\Ettore\\AppData\\Roaming\\nltk_data...\n",
      "[nltk_data]   Package stopwords is already up-to-date!\n"
     ]
    }
   ],
   "source": [
    "from nltk.tokenize import sent_tokenize, word_tokenize\n",
    "import warnings\n",
    "warnings.filterwarnings(action = 'ignore')\n",
    "\n",
    "import gensim\n",
    "import string\n",
    "import json\n",
    "import os\n",
    "from gensim.models import Word2Vec\n",
    "from nltk.corpus import stopwords\n",
    "nltk.download(\"stopwords\")\n",
    "\n",
    "stop_words = set(stopwords.words('english'))\n",
    "stop_words.add(\"p\")"
   ]
  },
  {
   "cell_type": "code",
   "execution_count": 156,
   "metadata": {},
   "outputs": [],
   "source": [
    "# Read a folder of jsons and returns a list of dictionaries \n",
    "def jsonFolderReader(path_to_folder):\n",
    "    jlist = []\n",
    "    for jfile in os.listdir(path_to_folder):\n",
    "        try:\n",
    "            jlist.append(json.load(open(path_to_folder + jfile)))\n",
    "        except:\n",
    "            pass\n",
    "    return jlist"
   ]
  },
  {
   "cell_type": "code",
   "execution_count": 159,
   "metadata": {},
   "outputs": [],
   "source": [
    "# Cleans a given field of a dictionary and returns the content\n",
    "def cleaner(oldstring):\n",
    "    #This part seems to be everywhere\n",
    "    if \"<p class=\\\"first\\\">\" in oldstring:\n",
    "        newstring = oldstring.replace(\"<p class=\\\"first\\\">\", \"\").lower()\n",
    "    else:\n",
    "        newstring = oldstring.lower()\n",
    "    if \"</p>\" in oldstring:\n",
    "        newstring = oldstring.replace(\"</p>\", \"\").lower().translate(str.maketrans(\"\", \"\", string.punctuation)).split()\n",
    "    else:\n",
    "        newstring = oldstring.lower().translate(str.maketrans(\"\", \"\", string.punctuation)).split()\n",
    "    # Remove stopwords\n",
    "    newstring = [word for word in newstring if not word in stop_words]\n",
    "    return newstring"
   ]
  },
  {
   "cell_type": "code",
   "execution_count": 164,
   "metadata": {},
   "outputs": [],
   "source": [
    "def all_cleaner(list_of_dicts, fields):\n",
    "    for jdict in list_of_dicts:\n",
    "        for field in fields:\n",
    "            jdict[field] = cleaner(jdict[field])"
   ]
  },
  {
   "cell_type": "code",
   "execution_count": 179,
   "metadata": {},
   "outputs": [],
   "source": [
    "class Vectorizer:\n",
    "    def __init__(self, path_to_folder, fields):\n",
    "        self.dicts = jsonFolderReader(path_to_folder)\n",
    "        self.corpora = [dic[\"description\"] for dic in self.dicts]\n",
    "        self.word2vec = gensim.models.Word2Vec([text for text in self.corpora], min_count = 1, vector_size = 35, window = 5)\n",
    "    def vectorize(self):\n",
    "        pass"
   ]
  },
  {
   "cell_type": "code",
   "execution_count": 172,
   "metadata": {},
   "outputs": [],
   "source": [
    "# cleaner(jsonFolderReader(\"D:\\\\Downloads\\\\V3C1\\\\info\\\\\")[0][\"description\"])"
   ]
  },
  {
   "cell_type": "code",
   "execution_count": 168,
   "metadata": {},
   "outputs": [],
   "source": [
    "# dicts = jsonFolderReader(\"D:\\\\Downloads\\\\V3C1\\\\info\\\\\")"
   ]
  },
  {
   "cell_type": "code",
   "execution_count": 169,
   "metadata": {},
   "outputs": [],
   "source": [
    "# all_cleaner(dicts, [\"description\"])"
   ]
  },
  {
   "cell_type": "code",
   "execution_count": 173,
   "metadata": {},
   "outputs": [],
   "source": [
    "# dicts[0][\"description\"]"
   ]
  },
  {
   "cell_type": "code",
   "execution_count": 180,
   "metadata": {},
   "outputs": [],
   "source": [
    "# model1 = gensim.models.Word2Vec(dicts[0][\"description\"], min_count = 1, vector_size = 100, window = 5)"
   ]
  },
  {
   "cell_type": "code",
   "execution_count": null,
   "metadata": {},
   "outputs": [],
   "source": []
  },
  {
   "cell_type": "code",
   "execution_count": null,
   "metadata": {},
   "outputs": [],
   "source": []
  }
 ],
 "metadata": {
  "kernelspec": {
   "display_name": "Python 3",
   "language": "python",
   "name": "python3"
  },
  "language_info": {
   "codemirror_mode": {
    "name": "ipython",
    "version": 3
   },
   "file_extension": ".py",
   "mimetype": "text/x-python",
   "name": "python",
   "nbconvert_exporter": "python",
   "pygments_lexer": "ipython3",
   "version": "3.6.7"
  }
 },
 "nbformat": 4,
 "nbformat_minor": 2
}
