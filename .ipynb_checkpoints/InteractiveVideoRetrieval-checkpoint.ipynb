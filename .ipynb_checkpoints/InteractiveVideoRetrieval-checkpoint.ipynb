{
 "cells": [
  {
   "cell_type": "markdown",
   "metadata": {},
   "source": [
    "# Interactive Video Retrieval Project\n",
    "## Spring Semester 2021 - UZH\n",
    "\n",
    "#### Course of action\n",
    "##### 1a. Videos: --> VIDEOS ARE ALREADY SAMPLED!\n",
    "<ol>\n",
    "    <li>Extract uniformly sequence of n frames (may be 20fps in .png format)</li>\n",
    "    <li>Extract deep features by ImageNet CNN or GCN3</li>\n",
    "    <li>Mean Pooling</li>\n",
    "    <li>Temporal Aware Encoding</li>\n",
    "    <li>Local-Enhanced Encoding</li>\n",
    "</ol>\n",
    "\n",
    "##### 1b. Text:\n",
    "<ol>\n",
    "    <li>Use Word2Vec to vectorize title + description of each video</li>\n",
    "    <li>Extract the relevant words from text</li>\n",
    "    <li>Use extraction to get more relevant results</li>\n",
    "</ol>\n",
    "\n",
    "##### 2. Apply model\n",
    "\n",
    "##### 3. Use APIs to get evaluation\n"
   ]
  },
  {
   "cell_type": "code",
   "execution_count": 1,
   "metadata": {},
   "outputs": [],
   "source": [
    "### TODO 1a.: Define class to sample videos to .png given a sample rating"
   ]
  },
  {
   "cell_type": "code",
   "execution_count": 2,
   "metadata": {},
   "outputs": [],
   "source": [
    "### TODO 1b.: Create class to vectorize text (title + description) and to extract the relevant words from the text\n",
    "### Maybe clean from punctuation"
   ]
  },
  {
   "cell_type": "code",
   "execution_count": null,
   "metadata": {},
   "outputs": [],
   "source": []
  }
 ],
 "metadata": {
  "kernelspec": {
   "display_name": "Python 3",
   "language": "python",
   "name": "python3"
  },
  "language_info": {
   "codemirror_mode": {
    "name": "ipython",
    "version": 3
   },
   "file_extension": ".py",
   "mimetype": "text/x-python",
   "name": "python",
   "nbconvert_exporter": "python",
   "pygments_lexer": "ipython3",
   "version": "3.6.7"
  }
 },
 "nbformat": 4,
 "nbformat_minor": 2
}
